{
 "cells": [
  {
   "cell_type": "markdown",
   "id": "fb87c142",
   "metadata": {
    "slideshow": {
     "slide_type": "slide"
    }
   },
   "source": [
    "# Getting started\n",
    "To use pandas, you'll typically start with the following line of code."
   ]
  },
  {
   "cell_type": "code",
   "execution_count": 115,
   "id": "c911295f",
   "metadata": {
    "slideshow": {
     "slide_type": "slide"
    }
   },
   "outputs": [],
   "source": [
    "#pip install numpy\n",
    "#pip install pandas\n",
    "import pandas as pd\n",
    "import numpy as np"
   ]
  },
  {
   "cell_type": "markdown",
   "id": "a4108bc6",
   "metadata": {
    "heading_collapsed": true,
    "slideshow": {
     "slide_type": "slide"
    }
   },
   "source": [
    "## 1. Creating data\n",
    "There are two core objects in pandas: the <font color='red'><b> DataFrame </b></font> and the <font color='red'><b> Series </b></font>."
   ]
  },
  {
   "cell_type": "code",
   "execution_count": null,
   "id": "57a6cf1a",
   "metadata": {
    "hidden": true,
    "slideshow": {
     "slide_type": "slide"
    }
   },
   "outputs": [],
   "source": [
    "# From a list of lists\n",
    "# Each nested List constructs a row without name\n",
    "data = [['Alice', 25, 'New York'],\n",
    "        ['Bob', 30, 'Paris'],\n",
    "        ['Charlie', 35, 'London']]\n",
    "\n",
    "df = pd.DataFrame(data)\n",
    "df"
   ]
  },
  {
   "cell_type": "code",
   "execution_count": null,
   "id": "2d65cacc",
   "metadata": {
    "hidden": true,
    "slideshow": {
     "slide_type": "slide"
    }
   },
   "outputs": [],
   "source": [
    "# From a list of lists\n",
    "# Each nested List constructs a row without name\n",
    "data = [['Alice', 25, 'New York'],\n",
    "        ['Bob', 30, 'Paris'],\n",
    "        ['Charlie', 35, 'London']]\n",
    "df = pd.DataFrame(data,columns=['name', 'age', 'city'])\n",
    "df"
   ]
  },
  {
   "cell_type": "code",
   "execution_count": null,
   "id": "9c910d99",
   "metadata": {
    "hidden": true,
    "slideshow": {
     "slide_type": "slide"
    }
   },
   "outputs": [],
   "source": [
    "data = [['Alice', 25, 'New York'],\n",
    "        ['Bob', 30, 'Paris'],\n",
    "        ['Charlie', 35, 'London']]\n",
    "\n",
    "df = pd.DataFrame(data,columns=['name', 'age', 'city'],\n",
    "                       index=['Student1','Student2','Student3'])\n",
    "df"
   ]
  },
  {
   "cell_type": "code",
   "execution_count": null,
   "id": "243fdd90",
   "metadata": {
    "hidden": true,
    "slideshow": {
     "slide_type": "slide"
    }
   },
   "outputs": [],
   "source": [
    "# From 'dictionary-list' or 'dictionary of Lists' format\n",
    "# Each \"key:value\" pair, constructs a column by default\n",
    "\n",
    "data = {'name': ['Alice', 'Bob', 'Charlie'],\n",
    "        'age' : [25, 30, 35],\n",
    "        'city': ['New York', 'Paris', 'London']}\n",
    "\n",
    "df = pd.DataFrame(data)\n",
    "df"
   ]
  },
  {
   "cell_type": "code",
   "execution_count": null,
   "id": "b81f4117",
   "metadata": {
    "hidden": true,
    "slideshow": {
     "slide_type": "slide"
    }
   },
   "outputs": [],
   "source": [
    "# From 'dictionary-list' or 'dictionary of Lists' format\n",
    "# Each \"key:value\" pair, constructs a column by default\n",
    "\n",
    "data = {'name': ['Alice', 'Bob', 'Charlie'],\n",
    "        'age' : [25, 30, 35],\n",
    "        'city': ['New York', 'Paris', 'London']}\n",
    "\n",
    "df = pd.DataFrame(data,index=['one','two','three'])\n",
    "df"
   ]
  },
  {
   "cell_type": "code",
   "execution_count": null,
   "id": "7d58c744",
   "metadata": {
    "hidden": true,
    "slideshow": {
     "slide_type": "slide"
    }
   },
   "outputs": [],
   "source": [
    "# From a list of dictionaries\n",
    "# Each dictionary constructs a record or row\n",
    "data = [{'name': 'Alice'  , 'age': 25, 'city': 'New York'},\n",
    "        {'name': 'Bob'    , 'age': 30, 'city': 'Paris'},\n",
    "        {'name': 'Charlie', 'age': 35, 'city': 'London'}]\n",
    "df = pd.DataFrame(data)\n",
    "df"
   ]
  },
  {
   "cell_type": "code",
   "execution_count": null,
   "id": "7536d2d6",
   "metadata": {
    "hidden": true,
    "slideshow": {
     "slide_type": "slide"
    }
   },
   "outputs": [],
   "source": [
    "# From a list of dictionaries\n",
    "# Each dictionary constructs a record or row\n",
    "data = [{'name': 'Alice'  , 'age': 25, 'city': 'New York'},\n",
    "        {'name': 'Bob'    , 'age': 30, 'city': 'Paris'},\n",
    "        {'Name': 'Charlie', 'age': 35, 'city': 'London'}]\n",
    "\n",
    "df = pd.DataFrame(data)\n",
    "df"
   ]
  },
  {
   "cell_type": "code",
   "execution_count": null,
   "id": "b362f0d1",
   "metadata": {
    "hidden": true,
    "slideshow": {
     "slide_type": "slide"
    }
   },
   "outputs": [],
   "source": [
    "# From a list of tuples\n",
    "data = [('Alice', 25, 'New York'),\n",
    "        ('Bob', 30, 'Paris'),\n",
    "        ('Charlie', 35, 'London')]\n",
    "\n",
    "df = pd.DataFrame(data, columns=['name', 'age', 'city'])\n",
    "df"
   ]
  },
  {
   "cell_type": "markdown",
   "id": "2a8d78b2",
   "metadata": {
    "heading_collapsed": true,
    "hidden": true,
    "slideshow": {
     "slide_type": "slide"
    }
   },
   "source": [
    "### 1.2. Series\n",
    "A Series, by contrast, is a sequence of data values. If a DataFrame is a table, a Series is a list. And in fact you can create one with nothing more than a list:"
   ]
  },
  {
   "cell_type": "code",
   "execution_count": null,
   "id": "2209215b",
   "metadata": {
    "hidden": true,
    "slideshow": {
     "slide_type": "slide"
    }
   },
   "outputs": [],
   "source": [
    "pd.Series([1, 2, 3, 4, 5] , name='Test1')"
   ]
  },
  {
   "cell_type": "markdown",
   "id": "bc0e18a0",
   "metadata": {
    "hidden": true,
    "slideshow": {
     "slide_type": "slide"
    }
   },
   "source": [
    "* The Series and the DataFrame are intimately related. It's helpful to think of a DataFrame as actually being just a bunch of Series <font color='red'><b> glued together </b></font>."
   ]
  },
  {
   "cell_type": "code",
   "execution_count": null,
   "id": "96d0aa00",
   "metadata": {
    "hidden": true,
    "slideshow": {
     "slide_type": "slide"
    }
   },
   "outputs": [],
   "source": [
    "one = pd.Series([1, 2, 3, 4, 5] , name='Test1')\n",
    "two = pd.Series([6, 7, 8, 9, 10] , name='Test2')\n",
    "test_table = pd.concat([one,two] , axis=1)\n",
    "test_table"
   ]
  },
  {
   "cell_type": "markdown",
   "id": "36dfd357",
   "metadata": {
    "heading_collapsed": true,
    "slideshow": {
     "slide_type": "slide"
    }
   },
   "source": [
    "## 2. Reading data files"
   ]
  },
  {
   "cell_type": "code",
   "execution_count": null,
   "id": "36400ca6",
   "metadata": {
    "hidden": true,
    "slideshow": {
     "slide_type": "slide"
    }
   },
   "outputs": [],
   "source": [
    "my_table = pd.read_csv('salesmonthly.csv')\n",
    "my_table"
   ]
  },
  {
   "cell_type": "markdown",
   "id": "b830a7d5",
   "metadata": {
    "heading_collapsed": true,
    "hidden": true,
    "slideshow": {
     "slide_type": "slide"
    }
   },
   "source": [
    "### 2.1. Useful attributes and methods"
   ]
  },
  {
   "cell_type": "code",
   "execution_count": null,
   "id": "a9c1bc3b",
   "metadata": {
    "hidden": true,
    "slideshow": {
     "slide_type": "slide"
    }
   },
   "outputs": [],
   "source": [
    "my_table.shape"
   ]
  },
  {
   "cell_type": "code",
   "execution_count": null,
   "id": "f812aa53",
   "metadata": {
    "hidden": true,
    "slideshow": {
     "slide_type": "slide"
    }
   },
   "outputs": [],
   "source": [
    "my_table.head()"
   ]
  },
  {
   "cell_type": "code",
   "execution_count": null,
   "id": "e4a1b97b",
   "metadata": {
    "hidden": true,
    "slideshow": {
     "slide_type": "slide"
    }
   },
   "outputs": [],
   "source": [
    "my_table.head(3)"
   ]
  },
  {
   "cell_type": "code",
   "execution_count": null,
   "id": "d871b505",
   "metadata": {
    "hidden": true,
    "slideshow": {
     "slide_type": "slide"
    }
   },
   "outputs": [],
   "source": [
    "my_table.tail(3)"
   ]
  },
  {
   "cell_type": "code",
   "execution_count": null,
   "id": "08786101",
   "metadata": {
    "hidden": true,
    "slideshow": {
     "slide_type": "slide"
    }
   },
   "outputs": [],
   "source": [
    "my_table.info()"
   ]
  },
  {
   "cell_type": "code",
   "execution_count": null,
   "id": "ee60e41e",
   "metadata": {
    "hidden": true,
    "slideshow": {
     "slide_type": "slide"
    }
   },
   "outputs": [],
   "source": [
    "my_table.describe()"
   ]
  },
  {
   "cell_type": "code",
   "execution_count": null,
   "id": "84585194",
   "metadata": {
    "hidden": true,
    "slideshow": {
     "slide_type": "slide"
    }
   },
   "outputs": [],
   "source": [
    "my_table.describe(include = 'all')"
   ]
  },
  {
   "cell_type": "markdown",
   "id": "23f3c58a",
   "metadata": {
    "hidden": true,
    "slideshow": {
     "slide_type": "slide"
    }
   },
   "source": [
    "### 2.2. Accessing DataFrame"
   ]
  },
  {
   "cell_type": "code",
   "execution_count": null,
   "id": "ca9a3785",
   "metadata": {
    "hidden": true,
    "slideshow": {
     "slide_type": "slide"
    }
   },
   "outputs": [],
   "source": [
    "my_table = pd.read_csv('salesmonthly.csv')\n",
    "my_table.head(3)"
   ]
  },
  {
   "cell_type": "code",
   "execution_count": null,
   "id": "9c0e0339",
   "metadata": {
    "hidden": true,
    "slideshow": {
     "slide_type": "slide"
    }
   },
   "outputs": [],
   "source": [
    "# df['column']\n",
    "my_table['product1']"
   ]
  },
  {
   "cell_type": "code",
   "execution_count": null,
   "id": "043ff8b2",
   "metadata": {
    "hidden": true,
    "slideshow": {
     "slide_type": "slide"
    }
   },
   "outputs": [],
   "source": [
    "#df.columnname\n",
    "my_table.product1"
   ]
  },
  {
   "cell_type": "code",
   "execution_count": null,
   "id": "70b988cd",
   "metadata": {
    "hidden": true,
    "slideshow": {
     "slide_type": "slide"
    }
   },
   "outputs": [],
   "source": [
    "# my_table['product1']\n",
    "my_table[['product1']]"
   ]
  },
  {
   "cell_type": "code",
   "execution_count": null,
   "id": "6037a54e",
   "metadata": {
    "hidden": true,
    "slideshow": {
     "slide_type": "slide"
    }
   },
   "outputs": [],
   "source": [
    "my_table.product 8"
   ]
  },
  {
   "cell_type": "code",
   "execution_count": null,
   "id": "dd98c59a",
   "metadata": {
    "hidden": true,
    "slideshow": {
     "slide_type": "slide"
    }
   },
   "outputs": [],
   "source": [
    "# column name in Farsi\n",
    "my_table[['product 8']]"
   ]
  },
  {
   "cell_type": "code",
   "execution_count": null,
   "id": "3a218388",
   "metadata": {
    "hidden": true,
    "slideshow": {
     "slide_type": "slide"
    }
   },
   "outputs": [],
   "source": [
    "my_table['product 8'][0]"
   ]
  },
  {
   "cell_type": "code",
   "execution_count": null,
   "id": "a91988ab",
   "metadata": {
    "hidden": true,
    "slideshow": {
     "slide_type": "slide"
    }
   },
   "outputs": [],
   "source": [
    "my_table.product1[0]"
   ]
  },
  {
   "cell_type": "code",
   "execution_count": null,
   "id": "9cc90fbf",
   "metadata": {
    "hidden": true,
    "scrolled": true,
    "slideshow": {
     "slide_type": "slide"
    }
   },
   "outputs": [],
   "source": [
    "# my_table['product1','product2']\n",
    "my_table[['product1','product2']]"
   ]
  },
  {
   "cell_type": "code",
   "execution_count": null,
   "id": "8e18e06a",
   "metadata": {
    "hidden": true,
    "slideshow": {
     "slide_type": "slide"
    }
   },
   "outputs": [],
   "source": [
    "my_table.product1.describe()"
   ]
  },
  {
   "cell_type": "code",
   "execution_count": null,
   "id": "a0c5702a",
   "metadata": {
    "hidden": true,
    "slideshow": {
     "slide_type": "slide"
    }
   },
   "outputs": [],
   "source": [
    "my_table.product1.mean()"
   ]
  },
  {
   "cell_type": "code",
   "execution_count": null,
   "id": "41f49c62",
   "metadata": {
    "hidden": true,
    "slideshow": {
     "slide_type": "slide"
    }
   },
   "outputs": [],
   "source": [
    "my_table.product1.max()"
   ]
  },
  {
   "cell_type": "code",
   "execution_count": null,
   "id": "23b0d1b0",
   "metadata": {
    "hidden": true,
    "slideshow": {
     "slide_type": "slide"
    }
   },
   "outputs": [],
   "source": [
    "my_table.product1.argmax()"
   ]
  },
  {
   "cell_type": "code",
   "execution_count": null,
   "id": "306c2548",
   "metadata": {
    "hidden": true,
    "slideshow": {
     "slide_type": "slide"
    }
   },
   "outputs": [],
   "source": [
    "my_table.Customer.unique()"
   ]
  },
  {
   "cell_type": "code",
   "execution_count": null,
   "id": "20334c30",
   "metadata": {
    "hidden": true,
    "slideshow": {
     "slide_type": "slide"
    }
   },
   "outputs": [],
   "source": [
    "my_table.Customer.nunique()"
   ]
  },
  {
   "cell_type": "code",
   "execution_count": null,
   "id": "d0ff67a9",
   "metadata": {
    "hidden": true,
    "slideshow": {
     "slide_type": "slide"
    }
   },
   "outputs": [],
   "source": [
    "my_table.Customer.value_counts()"
   ]
  },
  {
   "cell_type": "code",
   "execution_count": null,
   "id": "be49fdd4",
   "metadata": {
    "hidden": true,
    "slideshow": {
     "slide_type": "slide"
    }
   },
   "outputs": [],
   "source": [
    "my_table.Customer.value_counts(normalize=True)*100"
   ]
  },
  {
   "cell_type": "code",
   "execution_count": null,
   "id": "0a63a960",
   "metadata": {
    "hidden": true,
    "slideshow": {
     "slide_type": "slide"
    }
   },
   "outputs": [],
   "source": [
    "my_table.product1-100"
   ]
  },
  {
   "cell_type": "code",
   "execution_count": null,
   "id": "b35d8db4",
   "metadata": {
    "hidden": true,
    "slideshow": {
     "slide_type": "slide"
    }
   },
   "outputs": [],
   "source": [
    "my_table.product1 - my_table.product1.mean()"
   ]
  },
  {
   "cell_type": "code",
   "execution_count": null,
   "id": "e745d8fb",
   "metadata": {
    "hidden": true,
    "slideshow": {
     "slide_type": "slide"
    }
   },
   "outputs": [],
   "source": [
    "#Add column\n",
    "my_table['Cus_length'] = my_table.Customer.apply(len)\n",
    "my_table.head()"
   ]
  },
  {
   "cell_type": "markdown",
   "id": "d528f5d8",
   "metadata": {
    "slideshow": {
     "slide_type": "slide"
    }
   },
   "source": [
    "## 3. Indexing in Pandas\n",
    "\n",
    "The indexing operator and attribute selection work just like the rest of the Python ecosystem.  \n",
    "However, pandas has its own accessor operators, <font color='red'><b> loc </b></font> and <font color='red'><b> iloc </b></font> for more advanced operations.\n"
   ]
  },
  {
   "cell_type": "code",
   "execution_count": null,
   "id": "8d0107ec",
   "metadata": {
    "hidden": true,
    "slideshow": {
     "slide_type": "slide"
    }
   },
   "outputs": [],
   "source": [
    "my_table.head()"
   ]
  },
  {
   "cell_type": "code",
   "execution_count": null,
   "id": "eed9ee21",
   "metadata": {
    "hidden": true,
    "slideshow": {
     "slide_type": "slide"
    }
   },
   "outputs": [],
   "source": [
    "# output: Series\n",
    "my_table.iloc[1]"
   ]
  },
  {
   "cell_type": "code",
   "execution_count": null,
   "id": "0df2e7dd",
   "metadata": {
    "hidden": true,
    "slideshow": {
     "slide_type": "slide"
    }
   },
   "outputs": [],
   "source": [
    "#output : DataFrame\n",
    "my_table.iloc[[1]]"
   ]
  },
  {
   "cell_type": "code",
   "execution_count": null,
   "id": "ac3cadaa",
   "metadata": {
    "hidden": true,
    "slideshow": {
     "slide_type": "slide"
    }
   },
   "outputs": [],
   "source": [
    "my_table.iloc[1,]"
   ]
  },
  {
   "cell_type": "code",
   "execution_count": null,
   "id": "959fbd79",
   "metadata": {
    "hidden": true,
    "slideshow": {
     "slide_type": "slide"
    }
   },
   "outputs": [],
   "source": [
    "my_table.iloc[1:3,0:6]"
   ]
  },
  {
   "cell_type": "code",
   "execution_count": null,
   "id": "b788e5ea",
   "metadata": {
    "hidden": true,
    "slideshow": {
     "slide_type": "slide"
    }
   },
   "outputs": [],
   "source": [
    "my_table.iloc[[1,4,12],[1,3,7]]"
   ]
  },
  {
   "cell_type": "code",
   "execution_count": null,
   "id": "2e911083",
   "metadata": {
    "hidden": true,
    "scrolled": true,
    "slideshow": {
     "slide_type": "slide"
    }
   },
   "outputs": [],
   "source": [
    "print(my_table.product1.max())\n",
    "print(my_table.product1.argmax())\n",
    "my_table.iloc[[my_table.product1.argmax()]]"
   ]
  },
  {
   "cell_type": "code",
   "execution_count": null,
   "id": "3e7acfe1",
   "metadata": {
    "hidden": true,
    "slideshow": {
     "slide_type": "slide"
    }
   },
   "outputs": [],
   "source": [
    "my_table.iloc[-5:]"
   ]
  },
  {
   "cell_type": "code",
   "execution_count": null,
   "id": "1f1a4d03",
   "metadata": {
    "hidden": true,
    "scrolled": true,
    "slideshow": {
     "slide_type": "slide"
    }
   },
   "outputs": [],
   "source": [
    "my_table[-5:]"
   ]
  },
  {
   "cell_type": "code",
   "execution_count": null,
   "id": "29635291",
   "metadata": {
    "hidden": true,
    "slideshow": {
     "slide_type": "slide"
    }
   },
   "outputs": [],
   "source": [
    "my_table.iloc[:,1:7]"
   ]
  },
  {
   "cell_type": "markdown",
   "id": "1220e9b3",
   "metadata": {
    "heading_collapsed": true,
    "slideshow": {
     "slide_type": "slide"
    }
   },
   "source": [
    "### 3.2. Label-based selection\n",
    "This paradigm for attribute selection is the one followed by the <font color='red'><b> loc </b></font> operator: label-based selection. In this paradigm, it's the data index value, not its position, which matters."
   ]
  },
  {
   "cell_type": "code",
   "execution_count": null,
   "id": "99efcefc",
   "metadata": {
    "hidden": true,
    "slideshow": {
     "slide_type": "slide"
    }
   },
   "outputs": [],
   "source": [
    "my_table.head()"
   ]
  },
  {
   "cell_type": "code",
   "execution_count": null,
   "id": "c4405201",
   "metadata": {
    "hidden": true,
    "slideshow": {
     "slide_type": "slide"
    }
   },
   "outputs": [],
   "source": [
    "my_table.loc[0:3,'product1']"
   ]
  },
  {
   "cell_type": "code",
   "execution_count": null,
   "id": "096b4ce6",
   "metadata": {
    "hidden": true,
    "scrolled": false,
    "slideshow": {
     "slide_type": "slide"
    }
   },
   "outputs": [],
   "source": [
    "my_table.loc[0:3,['product1']]"
   ]
  },
  {
   "cell_type": "code",
   "execution_count": null,
   "id": "58ae5c32",
   "metadata": {
    "hidden": true,
    "slideshow": {
     "slide_type": "slide"
    }
   },
   "outputs": [],
   "source": [
    "my_table.iloc[0:3,[1]]"
   ]
  },
  {
   "cell_type": "code",
   "execution_count": null,
   "id": "06e043ba",
   "metadata": {
    "hidden": true,
    "slideshow": {
     "slide_type": "slide"
    }
   },
   "outputs": [],
   "source": [
    "my_table_2 = pd.read_csv('salesmonthly.csv', index_col='date') #index_col = 0\n",
    "my_table_2"
   ]
  },
  {
   "cell_type": "code",
   "execution_count": null,
   "id": "dac0dd2c",
   "metadata": {
    "hidden": true,
    "slideshow": {
     "slide_type": "slide"
    }
   },
   "outputs": [],
   "source": [
    "my_table_2.loc[['1/31/2014','3/31/2014'],['product1','product5']]"
   ]
  },
  {
   "cell_type": "code",
   "execution_count": null,
   "id": "39e5522d",
   "metadata": {
    "hidden": true,
    "slideshow": {
     "slide_type": "slide"
    }
   },
   "outputs": [],
   "source": [
    "my_table_2.loc['1/31/2014':'3/31/2014',['product1','product5']]"
   ]
  },
  {
   "cell_type": "code",
   "execution_count": null,
   "id": "f20335db",
   "metadata": {
    "hidden": true,
    "slideshow": {
     "slide_type": "slide"
    }
   },
   "outputs": [],
   "source": [
    "my_table_2.iloc[[0,2],[0,4]]"
   ]
  },
  {
   "cell_type": "code",
   "execution_count": null,
   "id": "bb48aeab",
   "metadata": {
    "hidden": true,
    "slideshow": {
     "slide_type": "slide"
    }
   },
   "outputs": [],
   "source": [
    "my_table_2.loc['1/31/2014':'5/31/2014','product1':'product4']"
   ]
  },
  {
   "cell_type": "code",
   "execution_count": null,
   "id": "0753775e",
   "metadata": {},
   "outputs": [],
   "source": []
  }
 ],
 "metadata": {
  "celltoolbar": "Slideshow",
  "kernelspec": {
   "display_name": "Python 3",
   "language": "python",
   "name": "python3"
  },
  "language_info": {
   "codemirror_mode": {
    "name": "ipython",
    "version": 3
   },
   "file_extension": ".py",
   "mimetype": "text/x-python",
   "name": "python",
   "nbconvert_exporter": "python",
   "pygments_lexer": "ipython3",
   "version": "3.12.5"
  },
  "toc": {
   "base_numbering": 1,
   "nav_menu": {},
   "number_sections": false,
   "sideBar": true,
   "skip_h1_title": false,
   "title_cell": "Table of Contents",
   "title_sidebar": "Contents",
   "toc_cell": false,
   "toc_position": {},
   "toc_section_display": true,
   "toc_window_display": false
  },
  "varInspector": {
   "cols": {
    "lenName": 16,
    "lenType": 16,
    "lenVar": 40
   },
   "kernels_config": {
    "python": {
     "delete_cmd_postfix": "",
     "delete_cmd_prefix": "del ",
     "library": "var_list.py",
     "varRefreshCmd": "print(var_dic_list())"
    },
    "r": {
     "delete_cmd_postfix": ") ",
     "delete_cmd_prefix": "rm(",
     "library": "var_list.r",
     "varRefreshCmd": "cat(var_dic_list()) "
    }
   },
   "types_to_exclude": [
    "module",
    "function",
    "builtin_function_or_method",
    "instance",
    "_Feature"
   ],
   "window_display": false
  }
 },
 "nbformat": 4,
 "nbformat_minor": 5
}
